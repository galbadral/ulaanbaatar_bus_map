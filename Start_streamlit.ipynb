{
 "cells": [
  {
   "cell_type": "code",
   "execution_count": null,
   "id": "70faffdc-ec60-4a68-88e6-062d192cdba7",
   "metadata": {},
   "outputs": [],
   "source": [
    "!streamlit run heatmap.py"
   ]
  },
  {
   "cell_type": "code",
   "execution_count": null,
   "id": "7a8ad24f-42f2-4a67-8fda-45f32f05e79b",
   "metadata": {},
   "outputs": [],
   "source": []
  }
 ],
 "metadata": {
  "kernelspec": {
   "display_name": "Python 3 (ipykernel)",
   "language": "python",
   "name": "python3"
  },
  "language_info": {
   "codemirror_mode": {
    "name": "ipython",
    "version": 3
   },
   "file_extension": ".py",
   "mimetype": "text/x-python",
   "name": "python",
   "nbconvert_exporter": "python",
   "pygments_lexer": "ipython3",
   "version": "3.8.13"
  }
 },
 "nbformat": 4,
 "nbformat_minor": 5
}
